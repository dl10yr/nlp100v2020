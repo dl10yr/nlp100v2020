{
 "cells": [
  {
   "cell_type": "code",
   "execution_count": 1,
   "metadata": {},
   "outputs": [
    {
     "name": "stdout",
     "output_type": "stream",
     "text": [
      "--2021-06-01 20:58:27--  https://nlp100.github.io/data/neko.txt\n",
      "nlp100.github.io (nlp100.github.io) をDNSに問いあわせています... 185.199.111.153, 185.199.108.153, 185.199.109.153, ...\n",
      "nlp100.github.io (nlp100.github.io)|185.199.111.153|:443 に接続しています... 接続しました。\n",
      "HTTP による接続要求を送信しました、応答を待っています... 200 OK\n",
      "長さ: 975789 (953K) [text/plain]\n",
      "`neko.txt' に保存中\n",
      "\n",
      "neko.txt            100%[===================>] 952.92K  1.71MB/s 時間 0.5s       \n",
      "\n",
      "2021-06-01 20:58:28 (1.71 MB/s) - `neko.txt' へ保存完了 [975789/975789]\n",
      "\n"
     ]
    }
   ],
   "source": [
    "!wget https://nlp100.github.io/data/neko.txt"
   ]
  },
  {
   "cell_type": "code",
   "execution_count": 7,
   "metadata": {},
   "outputs": [],
   "source": [
    "!mecab -o ./neko.txt.mecab ./neko.txt"
   ]
  },
  {
   "cell_type": "code",
   "execution_count": 8,
   "metadata": {},
   "outputs": [
    {
     "name": "stdout",
     "output_type": "stream",
     "text": [
      "  226266 ./neko.txt.mecab\r\n"
     ]
    }
   ],
   "source": [
    "!wc -l ./neko.txt.mecab"
   ]
  },
  {
   "cell_type": "code",
   "execution_count": 9,
   "metadata": {},
   "outputs": [
    {
     "name": "stdout",
     "output_type": "stream",
     "text": [
      "一\t名詞,数,*,*,*,*,一,イチ,イチ\r\n",
      "\r",
      "\t記号,一般,*,*,*,*,*\r\n",
      "EOS\r\n",
      "\r",
      "\t記号,一般,*,*,*,*,*\r\n",
      "EOS\r\n",
      "　\t記号,空白,*,*,*,*,　,　,　\r\n",
      "吾輩\t名詞,代名詞,一般,*,*,*,吾輩,ワガハイ,ワガハイ\r\n",
      "は\t助詞,係助詞,*,*,*,*,は,ハ,ワ\r\n",
      "猫\t名詞,一般,*,*,*,*,猫,ネコ,ネコ\r\n",
      "で\t助動詞,*,*,*,特殊・ダ,連用形,だ,デ,デ\r\n",
      "ある\t助動詞,*,*,*,五段・ラ行アル,基本形,ある,アル,アル\r\n",
      "。\t記号,句点,*,*,*,*,。,。,。\r\n",
      "\r",
      "\t記号,一般,*,*,*,*,*\r\n",
      "EOS\r\n",
      "名前\t名詞,一般,*,*,*,*,名前,ナマエ,ナマエ\r\n"
     ]
    }
   ],
   "source": [
    "!head -15 ./neko.txt.mecab"
   ]
  },
  {
   "cell_type": "code",
   "execution_count": 15,
   "metadata": {},
   "outputs": [
    {
     "name": "stdout",
     "output_type": "stream",
     "text": [
      "{'surface': '\\u3000', 'base': '\\u3000', 'pos': '記号', 'pos1': '空白'}\n",
      "{'surface': '吾輩', 'base': '吾輩', 'pos': '名詞', 'pos1': '代名詞'}\n",
      "{'surface': 'は', 'base': 'は', 'pos': '助詞', 'pos1': '係助詞'}\n",
      "{'surface': '猫', 'base': '猫', 'pos': '名詞', 'pos1': '一般'}\n",
      "{'surface': 'で', 'base': 'だ', 'pos': '助動詞', 'pos1': '*'}\n",
      "{'surface': 'ある', 'base': 'ある', 'pos': '助動詞', 'pos1': '*'}\n",
      "{'surface': '。', 'base': '。', 'pos': '記号', 'pos1': '句点'}\n"
     ]
    }
   ],
   "source": [
    "filename = './neko.txt.mecab'\n",
    "\n",
    "sentences = []\n",
    "morphs = []\n",
    "\n",
    "with open(filename, mode='r') as f:\n",
    "    for line in f:\n",
    "        if line != 'EOS\\n':\n",
    "            fields = line.split('\\t')\n",
    "            if len(fields) != 2 or fields[0] == '':\n",
    "                continue\n",
    "            else:\n",
    "                attr = fields[1].split(',')\n",
    "                morph = {'surface': fields[0], 'base': attr[6], 'pos': attr[0], 'pos1': attr[1]}\n",
    "                morphs.append(morph)\n",
    "        else:\n",
    "            sentences.append(morphs)\n",
    "            morphs = []\n",
    "\n",
    "for morph in sentences[2]:\n",
    "    print(morph)\n"
   ]
  },
  {
   "cell_type": "code",
   "execution_count": 17,
   "metadata": {},
   "outputs": [
    {
     "name": "stdout",
     "output_type": "stream",
     "text": [
      "動詞の表層形の種類: 3893\n",
      "\n",
      "---サンプル---\n",
      "値する\n",
      "誘わ\n",
      "開か\n",
      "起き上がる\n",
      "驚きゃ\n",
      "吠え\n",
      "やみ\n",
      "留める\n",
      "拱い\n",
      "明け\n"
     ]
    }
   ],
   "source": [
    "ans = set()\n",
    "\n",
    "for st in sentences:\n",
    "    for morph in st:\n",
    "        if morph['pos'] == '動詞':\n",
    "            ans.add(morph['surface'])\n",
    "\n",
    "print(f'動詞の表層形の種類: {len(ans)}\\n')\n",
    "print('---サンプル---')\n",
    "for v in list(ans)[:10]:\n",
    "    print(v)"
   ]
  },
  {
   "cell_type": "code",
   "execution_count": 20,
   "metadata": {},
   "outputs": [
    {
     "name": "stdout",
     "output_type": "stream",
     "text": [
      "動詞の原形の種類: 2300\n",
      "\n",
      "---サンプル---\n",
      "値する\n",
      "起き上がる\n",
      "尽くす\n",
      "滅入る\n",
      "見逃す\n",
      "留める\n",
      "透す\n",
      "浮く\n",
      "感ずる\n",
      "綻びる\n"
     ]
    }
   ],
   "source": [
    "ans = set()\n",
    "for sentence in sentences:\n",
    "    for morph in sentence:\n",
    "        if morph['pos'] == '動詞':\n",
    "            ans.add(morph['base'])\n",
    "\n",
    "# 確認\n",
    "print(f'動詞の原形の種類: {len(ans)}\\n')\n",
    "print('---サンプル---')\n",
    "for v in list(ans)[:10]:\n",
    "    print(v)"
   ]
  },
  {
   "cell_type": "code",
   "execution_count": 27,
   "metadata": {},
   "outputs": [
    {
     "name": "stdout",
     "output_type": "stream",
     "text": [
      "「名詞+の+名詞」の種類: 4924\n",
      "\n",
      "---サンプル---\n",
      "ヴァイオリンの隠れ家\n",
      "大兄の為\n",
      "前足の助け\n",
      "両人の皿\n",
      "縮緬の兵\n",
      "吾輩の性質\n",
      "主人の癖\n",
      "詩人の特色\n",
      "馬の遺風\n",
      "開化の高潮\n"
     ]
    }
   ],
   "source": [
    "ans = set()\n",
    "for st in sentences:\n",
    "    for i in range(1, len(st) -1):\n",
    "        if st[i-1]['pos'] == '名詞' and st[i]['surface'] == 'の' and st[i+1]['pos'] == '名詞':\n",
    "            ans.add(st[i - 1]['surface'] + st[i]['surface'] + st[i + 1]['surface'])\n",
    "\n",
    "# 確認\n",
    "print(f'「名詞+の+名詞」の種類: {len(ans)}\\n')\n",
    "print('---サンプル---')\n",
    "for n in list(ans)[:10]:\n",
    "    print(n)\n",
    "        "
   ]
  },
  {
   "cell_type": "code",
   "execution_count": null,
   "metadata": {},
   "outputs": [],
   "source": [
    "ans = set()\n"
   ]
  }
 ],
 "metadata": {
  "kernelspec": {
   "display_name": "Python 3",
   "language": "python",
   "name": "python3"
  },
  "language_info": {
   "codemirror_mode": {
    "name": "ipython",
    "version": 3
   },
   "file_extension": ".py",
   "mimetype": "text/x-python",
   "name": "python",
   "nbconvert_exporter": "python",
   "pygments_lexer": "ipython3",
   "version": "3.7.6"
  }
 },
 "nbformat": 4,
 "nbformat_minor": 4
}

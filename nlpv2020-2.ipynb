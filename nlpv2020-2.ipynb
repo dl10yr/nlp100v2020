{
 "cells": [
  {
   "cell_type": "code",
   "execution_count": 1,
   "metadata": {},
   "outputs": [
    {
     "name": "stdout",
     "output_type": "stream",
     "text": [
      "--2021-05-31 19:46:09--  https://nlp100.github.io/data/popular-names.txt\n",
      "nlp100.github.io (nlp100.github.io) をDNSに問いあわせています... 185.199.111.153, 185.199.108.153, 185.199.109.153, ...\n",
      "nlp100.github.io (nlp100.github.io)|185.199.111.153|:443 に接続しています... 接続しました。\n",
      "HTTP による接続要求を送信しました、応答を待っています... 200 OK\n",
      "長さ: 55026 (54K) [text/plain]\n",
      "`popular-names.txt' に保存中\n",
      "\n",
      "popular-names.txt   100%[===================>]  53.74K  --.-KB/s 時間 0.05s      \n",
      "\n",
      "2021-05-31 19:46:10 (1.10 MB/s) - `popular-names.txt' へ保存完了 [55026/55026]\n",
      "\n"
     ]
    }
   ],
   "source": [
    "!wget https://nlp100.github.io/data/popular-names.txt"
   ]
  },
  {
   "cell_type": "code",
   "execution_count": 7,
   "metadata": {},
   "outputs": [
    {
     "name": "stdout",
     "output_type": "stream",
     "text": [
      "2780\n",
      "    2780 ./popular-names.txt\r\n"
     ]
    }
   ],
   "source": [
    "import pandas as pd\n",
    "df = pd.read_table('./popular-names.txt', header=None, sep='\\t', names=['name', 'sex', 'number', 'year'])\n",
    "print(len(df))\n",
    "\n",
    "!wc -l ./popular-names.txt"
   ]
  },
  {
   "cell_type": "code",
   "execution_count": 8,
   "metadata": {},
   "outputs": [
    {
     "name": "stdout",
     "output_type": "stream",
     "text": [
      "Mary F 7065 1880\r\n",
      "Anna F 2604 1880\r\n",
      "Emma F 2003 1880\r\n",
      "Elizabeth F 1939 1880\r\n",
      "Minnie F 1746 1880\r\n",
      "sed: stdout: Broken pipe\r\n"
     ]
    }
   ],
   "source": [
    "!sed -e 's/\\t/ /g' ./popular-names.txt | head -n 5"
   ]
  },
  {
   "cell_type": "code",
   "execution_count": 18,
   "metadata": {},
   "outputs": [
    {
     "name": "stdout",
     "output_type": "stream",
     "text": [
      "           name sex  number  year\n",
      "0          Mary   F    7065  1880\n",
      "1          Anna   F    2604  1880\n",
      "2          Emma   F    2003  1880\n",
      "3     Elizabeth   F    1939  1880\n",
      "4        Minnie   F    1746  1880\n",
      "...         ...  ..     ...   ...\n",
      "2775   Benjamin   M   13381  2018\n",
      "2776     Elijah   M   12886  2018\n",
      "2777      Lucas   M   12585  2018\n",
      "2778      Mason   M   12435  2018\n",
      "2779      Logan   M   12352  2018\n",
      "\n",
      "[2780 rows x 4 columns]\n",
      "0         Mary\n",
      "1         Anna\n",
      "2         Emma\n",
      "3    Elizabeth\n",
      "4       Minnie\n",
      "Name: name, dtype: object\n",
      "head: illegal line count -- 5¥\n",
      "F\n",
      "F\n",
      "F\n",
      "F\n",
      "F\n"
     ]
    }
   ],
   "source": [
    "print(df)\n",
    "col1 = df['name']\n",
    "col1.to_csv('./col1.txt', index=False)\n",
    "print(col1.head())\n",
    "!cut -f 1 ./popular-names.txt > ./col1_chk.txt\n",
    "!cat ./col1_chk.txt | head -n 5¥\n",
    "col2 = df['sex']\n",
    "col2.to_csv('./col2.txt', index=False)\n",
    "\n",
    "!cut -f 2 ./popular-names.txt > ./col2_chk.txt\n",
    "!cat ./col2_chk.txt | head -n 5"
   ]
  },
  {
   "cell_type": "code",
   "execution_count": 20,
   "metadata": {},
   "outputs": [
    {
     "name": "stdout",
     "output_type": "stream",
     "text": [
      "        name sex\n",
      "0       Mary   F\n",
      "1       Anna   F\n",
      "2       Emma   F\n",
      "3  Elizabeth   F\n",
      "4     Minnie   F\n",
      "Mary\tF\r\n",
      "Anna\tF\r\n",
      "Emma\tF\r\n",
      "Elizabeth\tF\r\n",
      "Minnie\tF\r\n"
     ]
    }
   ],
   "source": [
    "col1 = pd.read_table('./col1.txt')\n",
    "col2 = pd.read_table('./col2.txt')\n",
    "merged_1_2 = pd.concat([col1, col2], axis=1)\n",
    "merged_1_2.to_csv('./merged_1_2.txt', sep='\\t', index=False)\n",
    "print(merged_1_2.head())\n",
    "!paste ./col1_chk.txt ./col2_chk.txt | head -n 5"
   ]
  },
  {
   "cell_type": "code",
   "execution_count": 22,
   "metadata": {},
   "outputs": [
    {
     "name": "stdout",
     "output_type": "stream",
     "text": [
      "        name sex  number  year\n",
      "0       Mary   F    7065  1880\n",
      "1       Anna   F    2604  1880\n",
      "2       Emma   F    2003  1880\n",
      "3  Elizabeth   F    1939  1880\n",
      "4     Minnie   F    1746  1880\n",
      "Mary\tF\t7065\t1880\r\n",
      "Anna\tF\t2604\t1880\r\n",
      "Emma\tF\t2003\t1880\r\n",
      "Elizabeth\tF\t1939\t1880\r\n",
      "Minnie\tF\t1746\t1880\r\n"
     ]
    }
   ],
   "source": [
    "def output_head(N):\n",
    "    print(df.head(N))\n",
    "output_head(5)\n",
    "!head -n 5 ./popular-names.txt"
   ]
  },
  {
   "cell_type": "code",
   "execution_count": 24,
   "metadata": {},
   "outputs": [
    {
     "name": "stdout",
     "output_type": "stream",
     "text": [
      "          name sex  number  year\n",
      "2775  Benjamin   M   13381  2018\n",
      "2776    Elijah   M   12886  2018\n",
      "2777     Lucas   M   12585  2018\n",
      "2778     Mason   M   12435  2018\n",
      "2779     Logan   M   12352  2018\n",
      "Benjamin\tM\t13381\t2018\r\n",
      "Elijah\tM\t12886\t2018\r\n",
      "Lucas\tM\t12585\t2018\r\n",
      "Mason\tM\t12435\t2018\r\n",
      "Logan\tM\t12352\t2018\r\n"
     ]
    }
   ],
   "source": [
    "def output_tail(N):\n",
    "    print(df.tail(N))\n",
    "output_tail(5)\n",
    "!tail -n 5 ./popular-names.txt"
   ]
  },
  {
   "cell_type": "code",
   "execution_count": 42,
   "metadata": {},
   "outputs": [
    {
     "name": "stdout",
     "output_type": "stream",
     "text": [
      "           name sex  number  year sp\n",
      "0          Mary   F    7065  1880  0\n",
      "1          Anna   F    2604  1880  0\n",
      "2          Emma   F    2003  1880  0\n",
      "3     Elizabeth   F    1939  1880  0\n",
      "4        Minnie   F    1746  1880  0\n",
      "...         ...  ..     ...   ... ..\n",
      "2775   Benjamin   M   13381  2018  9\n",
      "2776     Elijah   M   12886  2018  9\n",
      "2777      Lucas   M   12585  2018  9\n",
      "2778      Mason   M   12435  2018  9\n",
      "2779      Logan   M   12352  2018  9\n",
      "\n",
      "[2780 rows x 5 columns]\n"
     ]
    }
   ],
   "source": [
    "def split_file(N):\n",
    "    tmp = df.reset_index(drop=False)\n",
    "    df_cut = pd.qcut(tmp.index, N, labels=[i for i in range(N)])\n",
    "    df_cut = pd.concat([df, pd.Series(df_cut, name='sp')], axis=1)\n",
    "    return df_cut\n",
    "\n",
    "df_cut = split_file(10)\n",
    "print(df_cut)"
   ]
  },
  {
   "cell_type": "code",
   "execution_count": 44,
   "metadata": {},
   "outputs": [
    {
     "name": "stdout",
     "output_type": "stream",
     "text": [
      "136\n",
      "     136\r\n"
     ]
    }
   ],
   "source": [
    "print(len(df.drop_duplicates(subset='name')))\n",
    "!cut -f 1 ./popular-names.txt | sort | uniq | wc -l"
   ]
  },
  {
   "cell_type": "code",
   "execution_count": 46,
   "metadata": {},
   "outputs": [
    {
     "name": "stdout",
     "output_type": "stream",
     "text": [
      "         name sex  number  year\n",
      "1340    Linda   F   99689  1947\n",
      "1360    Linda   F   96211  1948\n",
      "1350    James   M   94757  1947\n",
      "1550  Michael   M   92704  1957\n",
      "1351   Robert   M   91640  1947\n",
      "Linda\tF\t99689\t1947\r\n",
      "Linda\tF\t96211\t1948\r\n",
      "James\tM\t94757\t1947\r\n",
      "Michael\tM\t92704\t1957\r\n",
      "Robert\tM\t91640\t1947\r\n",
      "sort: Broken pipe\r\n"
     ]
    }
   ],
   "source": [
    "df.sort_values(by='number', ascending=False, inplace=True)\n",
    "print(df.head())\n",
    "!cat ./popular-names.txt | sort -rnk 3 | head -n 5"
   ]
  },
  {
   "cell_type": "code",
   "execution_count": 48,
   "metadata": {},
   "outputs": [
    {
     "name": "stdout",
     "output_type": "stream",
     "text": [
      "James      118\n",
      "William    111\n",
      "Robert     108\n",
      "John       108\n",
      "Mary        92\n",
      "          ... \n",
      "Kelly        1\n",
      "Scott        1\n",
      "Pamela       1\n",
      "Carolyn      1\n",
      "Lucas        1\n",
      "Name: name, Length: 136, dtype: int64\n",
      " 118 James\r\n",
      " 111 William\r\n",
      " 108 Robert\r\n",
      " 108 John\r\n",
      "  92 Mary\r\n",
      "  75 Charles\r\n",
      "  74 Michael\r\n",
      "  73 Elizabeth\r\n",
      "  70 Joseph\r\n",
      "  60 Margaret\r\n",
      "  58 Thomas\r\n",
      "  58 George\r\n",
      "  57 David\r\n",
      "  51 Richard\r\n",
      "  45 Helen\r\n",
      "  43 Frank\r\n",
      "  43 Christopher\r\n",
      "  41 Anna\r\n",
      "  40 Edward\r\n",
      "  39 Ruth\r\n",
      "  38 Patricia\r\n",
      "  37 Matthew\r\n",
      "  36 Dorothy\r\n",
      "  35 Emma\r\n",
      "  32 Barbara\r\n",
      "  31 Joshua\r\n",
      "  31 Daniel\r\n",
      "  26 Sarah\r\n",
      "  26 Linda\r\n",
      "  26 Jennifer\r\n",
      "  26 Emily\r\n",
      "  25 Jessica\r\n",
      "  25 Jacob\r\n",
      "  24 Susan\r\n",
      "  24 Mildred\r\n",
      "  24 Betty\r\n",
      "  23 Henry\r\n",
      "  23 Ashley\r\n",
      "  22 Nancy\r\n",
      "  21 Andrew\r\n",
      "  20 Marie\r\n",
      "  20 Florence\r\n",
      "  20 Donald\r\n",
      "  20 Amanda\r\n",
      "  19 Samantha\r\n",
      "  18 Olivia\r\n",
      "  18 Melissa\r\n",
      "  18 Madison\r\n",
      "  18 Lisa\r\n",
      "  18 Karen\r\n",
      "  17 Stephanie\r\n",
      "  17 Abigail\r\n",
      "  16 Sandra\r\n",
      "  16 Mark\r\n",
      "  16 Ethel\r\n",
      "  15 Michelle\r\n",
      "  15 Isabella\r\n",
      "  15 Heather\r\n",
      "  15 Frances\r\n",
      "  15 Ethan\r\n",
      "  15 Carol\r\n",
      "  15 Angela\r\n",
      "  14 Shirley\r\n",
      "  14 Kimberly\r\n",
      "  14 Ava\r\n",
      "  14 Amy\r\n",
      "  13 Virginia\r\n",
      "  13 Sophia\r\n",
      "  13 Nicole\r\n",
      "  13 Jason\r\n",
      "  13 Hannah\r\n",
      "  13 Deborah\r\n",
      "  13 Brian\r\n",
      "  12 Minnie\r\n",
      "  12 Donna\r\n",
      "  12 Bertha\r\n",
      "  11 Cynthia\r\n",
      "  10 Ronald\r\n",
      "  10 Noah\r\n",
      "  10 Nicholas\r\n",
      "  10 Mia\r\n",
      "  10 Doris\r\n",
      "  10 Brittany\r\n",
      "  10 Alice\r\n",
      "   9 Tyler\r\n",
      "   9 Joan\r\n",
      "   9 Debra\r\n",
      "   8 Taylor\r\n",
      "   8 Mason\r\n",
      "   8 Judith\r\n",
      "   8 Ida\r\n",
      "   8 Clara\r\n",
      "   8 Alexis\r\n",
      "   8 Alexander\r\n",
      "   7 Tammy\r\n",
      "   7 Steven\r\n",
      "   7 Sharon\r\n",
      "   7 Liam\r\n",
      "   7 Harry\r\n",
      "   7 Brandon\r\n",
      "   6 Anthony\r\n",
      "   5 Jeffrey\r\n",
      "   5 Jayden\r\n",
      "   5 Gary\r\n",
      "   5 Charlotte\r\n",
      "   5 Annie\r\n",
      "   4 Lillian\r\n",
      "   4 Kathleen\r\n",
      "   4 Justin\r\n",
      "   4 Chloe\r\n",
      "   4 Benjamin\r\n",
      "   4 Austin\r\n",
      "   3 Megan\r\n",
      "   3 Harper\r\n",
      "   3 Evelyn\r\n",
      "   3 Elijah\r\n",
      "   3 Aiden\r\n",
      "   2 Rebecca\r\n",
      "   2 Oliver\r\n",
      "   2 Logan\r\n",
      "   2 Lauren\r\n",
      "   2 Larry\r\n",
      "   2 Bessie\r\n",
      "   2 Amelia\r\n",
      "   1 Walter\r\n",
      "   1 Tracy\r\n",
      "   1 Scott\r\n",
      "   1 Rachel\r\n",
      "   1 Pamela\r\n",
      "   1 Lucas\r\n",
      "   1 Lori\r\n",
      "   1 Laura\r\n",
      "   1 Kelly\r\n",
      "   1 Julie\r\n",
      "   1 Crystal\r\n",
      "   1 Carolyn\r\n"
     ]
    }
   ],
   "source": [
    "print(df['name'].value_counts())\n",
    "!cut -f 1 ./popular-names.txt | sort | uniq -c | sort -rn"
   ]
  },
  {
   "cell_type": "code",
   "execution_count": null,
   "metadata": {},
   "outputs": [],
   "source": []
  }
 ],
 "metadata": {
  "kernelspec": {
   "display_name": "Python 3",
   "language": "python",
   "name": "python3"
  },
  "language_info": {
   "codemirror_mode": {
    "name": "ipython",
    "version": 3
   },
   "file_extension": ".py",
   "mimetype": "text/x-python",
   "name": "python",
   "nbconvert_exporter": "python",
   "pygments_lexer": "ipython3",
   "version": "3.7.6"
  }
 },
 "nbformat": 4,
 "nbformat_minor": 4
}
